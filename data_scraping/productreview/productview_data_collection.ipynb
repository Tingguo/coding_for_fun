{
 "cells": [
  {
   "cell_type": "markdown",
   "source": [
    "# Collect review data from Productreview.com.au based on brand name"
   ],
   "metadata": {
    "collapsed": false
   }
  },
  {
   "cell_type": "code",
   "execution_count": 10,
   "metadata": {
    "collapsed": true
   },
   "outputs": [],
   "source": [
    "import pandas as pd\n",
    "import numpy as np\n",
    "import warnings\n",
    "warnings.filterwarnings('ignore')\n",
    "brands = pd.read_csv('brand_categories.csv',header=None)"
   ]
  },
  {
   "cell_type": "code",
   "execution_count": 11,
   "outputs": [
    {
     "data": {
      "text/plain": "                                              0  \\\n0                                         Azimo   \n1                                   Raiz Insure   \n2                                       Surveys   \n3                        iSelf Health Insurance   \n4    Cinema, Theme Park and Attraction Vouchers   \n..                                          ...   \n384                                    Tinklers   \n385                                 TableTopics   \n386                             Country Culture   \n387                             Sputnik Vintage   \n388                                   Makolette   \n\n                                         brand  \n0                                        azimo  \n1                                  raiz-insure  \n2                                      surveys  \n3                       iself-health-insurance  \n4    cinema-theme-park-and-attraction-vouchers  \n..                                         ...  \n384                                   tinklers  \n385                                tabletopics  \n386                            country-culture  \n387                            sputnik-vintage  \n388                                  makolette  \n\n[389 rows x 2 columns]",
      "text/html": "<div>\n<style scoped>\n    .dataframe tbody tr th:only-of-type {\n        vertical-align: middle;\n    }\n\n    .dataframe tbody tr th {\n        vertical-align: top;\n    }\n\n    .dataframe thead th {\n        text-align: right;\n    }\n</style>\n<table border=\"1\" class=\"dataframe\">\n  <thead>\n    <tr style=\"text-align: right;\">\n      <th></th>\n      <th>0</th>\n      <th>brand</th>\n    </tr>\n  </thead>\n  <tbody>\n    <tr>\n      <th>0</th>\n      <td>Azimo</td>\n      <td>azimo</td>\n    </tr>\n    <tr>\n      <th>1</th>\n      <td>Raiz Insure</td>\n      <td>raiz-insure</td>\n    </tr>\n    <tr>\n      <th>2</th>\n      <td>Surveys</td>\n      <td>surveys</td>\n    </tr>\n    <tr>\n      <th>3</th>\n      <td>iSelf Health Insurance</td>\n      <td>iself-health-insurance</td>\n    </tr>\n    <tr>\n      <th>4</th>\n      <td>Cinema, Theme Park and Attraction Vouchers</td>\n      <td>cinema-theme-park-and-attraction-vouchers</td>\n    </tr>\n    <tr>\n      <th>...</th>\n      <td>...</td>\n      <td>...</td>\n    </tr>\n    <tr>\n      <th>384</th>\n      <td>Tinklers</td>\n      <td>tinklers</td>\n    </tr>\n    <tr>\n      <th>385</th>\n      <td>TableTopics</td>\n      <td>tabletopics</td>\n    </tr>\n    <tr>\n      <th>386</th>\n      <td>Country Culture</td>\n      <td>country-culture</td>\n    </tr>\n    <tr>\n      <th>387</th>\n      <td>Sputnik Vintage</td>\n      <td>sputnik-vintage</td>\n    </tr>\n    <tr>\n      <th>388</th>\n      <td>Makolette</td>\n      <td>makolette</td>\n    </tr>\n  </tbody>\n</table>\n<p>389 rows × 2 columns</p>\n</div>"
     },
     "execution_count": 11,
     "metadata": {},
     "output_type": "execute_result"
    }
   ],
   "source": [
    "brands['brand'] = brands[0].str.lower()\n",
    "brands['brand'] = brands['brand'].str.replace(' ','-')\n",
    "brands['brand'] = brands['brand'].str.replace('.','-')\n",
    "brands['brand'] = brands['brand'].str.replace('--','-')\n",
    "brands['brand'] = brands['brand'].str.replace(\"'\",'-')\n",
    "brands['brand'] = brands['brand'].str.replace(\",\",'-')\n",
    "brands['brand'] = brands['brand'].str.replace('--','-')\n",
    "brands"
   ],
   "metadata": {
    "collapsed": false
   }
  },
  {
   "cell_type": "code",
   "execution_count": 28,
   "outputs": [
    {
     "name": "stdout",
     "output_type": "stream",
     "text": [
      "1 1\n",
      "0    money-transfer-services\n",
      "Name: category, dtype: object\n",
      "2 8\n",
      "7    car-hire\n",
      "Name: category, dtype: object\n",
      "3 9\n",
      "8    clothing-shops-brands\n",
      "Name: category, dtype: object\n",
      "4 10\n",
      "9    food-drink-shops\n",
      "Name: category, dtype: object\n",
      "5 11\n",
      "10    clothing-shops-brands\n",
      "Name: category, dtype: object\n",
      "6 13\n",
      "12    clothing-shops-brands\n",
      "Name: category, dtype: object\n",
      "7 14\n",
      "13    clothing-shops-brands\n",
      "Name: category, dtype: object\n",
      "8 15\n",
      "14    beauty-product-retailers\n",
      "Name: category, dtype: object\n",
      "9 16\n",
      "15    travel-agents-booking-service\n",
      "Name: category, dtype: object\n",
      "10 33\n",
      "32    pet-shops\n",
      "Name: category, dtype: object\n",
      "11 79\n",
      "78    home-decor-shops\n",
      "Name: category, dtype: object\n",
      "12 101\n",
      "100    clothing-shops-brands\n",
      "Name: category, dtype: object\n",
      "13 187\n",
      "186    jewellery-shops-brands\n",
      "Name: category, dtype: object\n",
      "14 210\n",
      "209    mother-baby-shops\n",
      "Name: category, dtype: object\n",
      "15 250\n",
      "249    clothing-shops-brands\n",
      "Name: category, dtype: object\n",
      "16 276\n",
      "275    food-drink-shops\n",
      "Name: category, dtype: object\n",
      "17 298\n",
      "297    clothing-shops-brands\n",
      "Name: category, dtype: object\n",
      "18 382\n",
      "381    clothing-shops-brands\n",
      "Name: category, dtype: object\n"
     ]
    }
   ],
   "source": [
    "import requests\n",
    "from lxml import etree\n",
    "import time\n",
    "\n",
    "headers = {'user-agent':'Mozilla/5.0 (Macintosh; Intel Mac OS X 10_15_6) AppleWebKit/605.1.15 (KHTML, like Gecko) Version/14.0.3 Safari/605.1.15'}\n",
    "base_url = \"https://www.productreview.com.au/listings/{}\"\n",
    "\n",
    "\n",
    "brands['category'] = ''\n",
    "brands['overall_reviews'] = ''\n",
    "brands['overall_star'] = ''\n",
    "\n",
    "brands['star5'] = ''\n",
    "brands['star4'] = ''\n",
    "brands['star3'] = ''\n",
    "brands['star2'] = ''\n",
    "brands['star1'] = ''\n",
    "\n",
    "brands['value_for_money'] = ''\n",
    "brands['value_for_money_num'] = ''\n",
    "brands['product_quality'] = ''\n",
    "brands['product_quality_num'] = ''\n",
    "brands['customer_service'] = ''\n",
    "brands['customer_service_num'] = ''\n",
    "\n",
    "num_1 = 0\n",
    "num_2 = 0\n",
    "for brand in brands['brand']:\n",
    "    num_2 +=1\n",
    "    res = requests.get(base_url.format(f'{brand}'),headers=headers)\n",
    "    tree = etree.HTML(res.text)\n",
    "    brand_category = tree.xpath(\"/html/body/div[1]/div[1]/div[1]/div[2]/div/main/div[1]/div[1]/div/div[1]/nav/ol/li[1]/a/@href\")\n",
    "    if len(brand_category)!=0:\n",
    "        num_1 += 1\n",
    "        print(num_1,num_2)\n",
    "        brand_category = brand_category[0].split('/')[2]\n",
    "        brands.loc[brands['brand']==brand,'category'] = brand_category\n",
    "        print(brands.loc[brands['brand']==brand,'category'])\n",
    "    overall_reviews = tree.xpath(\"/html/body/div[1]/div[1]/div[1]/div[2]/div/main/div[1]/div[1]/div/div[2]/div[2]/div[1]/div[1]/div/div/span/text()[1]\")\n",
    "    overall_star = tree.xpath(\"/html/body/div[1]/div[1]/div[1]/div[2]/div/main/div[1]/div[1]/div/div[2]/div[2]/div[1]/div[1]/span/@data-average-rating\")\n",
    "    if len(overall_reviews)!=0:\n",
    "        brands.loc[brands['brand']==brand,'overall_reviews'] = overall_reviews[0]\n",
    "    if len(overall_star)!=0:\n",
    "        brands.loc[brands['brand']==brand,'overall_star'] = overall_star[0]\n",
    "    star_ind = \"/html/body/div[1]/div[1]/div[1]/div[2]/div/main/div[1]/div[1]/div/div[2]/div[2]/div[1]/div[2]/a[{}]/@href\"\n",
    "    star_num = \"/html/body/div[1]/div[1]/div[1]/div[2]/div/main/div[1]/div[1]/div/div[2]/div[2]/div[1]/div[2]/a[{}]/span[2]/text()[2]\"\n",
    "    for i in ['1','2','3','4','5','6']:\n",
    "        ind = tree.xpath(star_ind.format(i))\n",
    "        num = tree.xpath(star_num.format(i))\n",
    "        if len(ind)!=0 and len(num)!=0:\n",
    "            ind = ind[0].split('=')[1]\n",
    "            brands.loc[brands['brand']==brand,'star'+ind] = num[0]\n",
    "    try:\n",
    "        brands.loc[brands['brand']==brand,'value_for_money'] = tree.xpath(\"/html/body/div[1]/div[1]/div[1]/div[2]/div/main/div[1]/div[1]/div/div[2]/div[2]/div[3]/div/div/@title\")\n",
    "        brands.loc[brands['brand']==brand,'value_for_money_num'] = tree.xpath(\"/html/body/div[1]/div[1]/div[1]/div[2]/div/main/div[1]/div[1]/div/div[2]/div[2]/div[3]/div/span/text()\")\n",
    "        brands.loc[brands['brand']==brand,'product_quality'] = tree.xpath(\"/html/body/div[1]/div[1]/div[1]/div[2]/div/main/div[1]/div[1]/div/div[2]/div[2]/div[4]/div/div/@title\")\n",
    "        brands.loc[brands['brand']==brand,'product_quality_num'] = tree.xpath(\"/html/body/div[1]/div[1]/div[1]/div[2]/div/main/div[1]/div[1]/div/div[2]/div[2]/div[4]/div/span/text()\")\n",
    "        brands.loc[brands['brand']==brand,'customer_service'] = tree.xpath(\"/html/body/div[1]/div[1]/div[1]/div[2]/div/main/div[1]/div[1]/div/div[2]/div[2]/div[5]/div/div/@title\")\n",
    "        brands.loc[brands['brand']==brand,'customer_service_num'] = tree.xpath(\"/html/body/div[1]/div[1]/div[1]/div[2]/div/main/div[1]/div[1]/div/div[2]/div[2]/div[5]/div/span/text()\")\n",
    "    except Exception as e:\n",
    "         pass\n",
    "    # print(brands.loc[brands['brand']==brand,:])\n",
    "    time.sleep(1)\n",
    "\n"
   ],
   "metadata": {
    "collapsed": false
   }
  },
  {
   "cell_type": "code",
   "execution_count": 29,
   "outputs": [],
   "source": [
    "brands.to_csv('brands_review.csv',index=False)"
   ],
   "metadata": {
    "collapsed": false
   }
  },
  {
   "cell_type": "code",
   "execution_count": 26,
   "outputs": [
    {
     "data": {
      "text/plain": "[]"
     },
     "execution_count": 26,
     "metadata": {},
     "output_type": "execute_result"
    }
   ],
   "source": [
    "num"
   ],
   "metadata": {
    "collapsed": false
   }
  },
  {
   "cell_type": "code",
   "execution_count": null,
   "outputs": [],
   "source": [],
   "metadata": {
    "collapsed": false
   }
  }
 ],
 "metadata": {
  "kernelspec": {
   "display_name": "Python 3",
   "language": "python",
   "name": "python3"
  },
  "language_info": {
   "codemirror_mode": {
    "name": "ipython",
    "version": 2
   },
   "file_extension": ".py",
   "mimetype": "text/x-python",
   "name": "python",
   "nbconvert_exporter": "python",
   "pygments_lexer": "ipython2",
   "version": "2.7.6"
  }
 },
 "nbformat": 4,
 "nbformat_minor": 0
}
